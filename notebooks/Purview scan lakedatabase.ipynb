{
  "cells": [
    {
      "cell_type": "markdown",
      "metadata": {
        "nteract": {
          "transient": {
            "deleting": false
          }
        }
      },
      "source": [
        "# Notebook to translate comments form lake database to purview\n",
        "## When some of the code will be used for other Entity types, we must replace the entityType definitions\n"
      ]
    },
    {
      "cell_type": "code",
      "execution_count": 1,
      "metadata": {
        "jupyter": {
          "outputs_hidden": false,
          "source_hidden": false
        },
        "nteract": {
          "transient": {
            "deleting": false
          }
        }
      },
      "outputs": [],
      "source": [
        "import os\n",
        "import requests\n",
        "import json\n",
        "import jmespath\n",
        "import pandas as pd\n",
        "\n",
        "from notebookutils import mssparkutils\n",
        "from pprint import pprint\n",
        "\n",
        "from pyspark.sql import *\n",
        "from pyspark.sql.functions import *\n",
        "from pyspark.sql.types import *\n",
        "\n",
        "import random, string\n",
        "import datetime as dtime\n",
        "import re\n",
        "import time\n",
        " \n",
        "purviewname = '<purviewname>'\n",
        "lakedatabase = '<lakedbname>'\n",
        "prefix = \"https:\\/\\/{}.purview.azure.com\".format(purviewname)\n",
        "\n",
        "tenantid=\"xxxxx-xxx-xxxx-xxxxx-xxxxxxxxxx\"\n",
        "clientid=\"xxxxx-xxx-xxxx-xxxxx-xxxxxxxxxx\"\n",
        "secret=TokenLibrary.getSecret('<keyvaultname>', '<secretname>')\n",
        "\n",
        "def azuread_auth(tenant_id: str, client_id: str, client_secret: str, resource_url: str):\n",
        "    url = f\"https://login.microsoftonline.com/{tenant_id}/oauth2/token\"\n",
        "    payload= f'grant_type=client_credentials&client_id={client_id}&client_secret={client_secret}&resource={resource_url}'\n",
        "    headers = {\n",
        "        'Content-Type': 'application/x-www-form-urlencoded'\n",
        "        }\n",
        "    response = requests.request(\"POST\", url, headers=headers, data=payload)\n",
        "    access_token = json.loads(response.text)['access_token']\n",
        "    return access_token"
      ]
    },
    {
      "cell_type": "code",
      "execution_count": 2,
      "metadata": {
        "jupyter": {
          "outputs_hidden": false,
          "source_hidden": false
        },
        "nteract": {
          "transient": {
            "deleting": false
          }
        }
      },
      "outputs": [],
      "source": [
        "def getguid(typeName: str, assetfqn: str, azuread_access_token: str):\n",
        "    prefix = f\"https://{purviewname}.catalog.purview.azure.com/api/atlas/v2/entity/uniqueAttribute/type\"\n",
        "    url = f\"{prefix}/{typeName}?attr:qualifiedName={assetfqn}&ignoreRelationships=True\"\n",
        "    headers = {\n",
        "            'Authorization': f'Bearer {azuread_access_token}',\n",
        "            'Content-Type': 'application/json'\n",
        "            }\n",
        "    response = requests.request(\"GET\", url, headers=headers)\n",
        "    print(response.text)\n",
        "    guid = json.loads(response.text)['entity']['guid']\n",
        "    return guid\n",
        "\n",
        "def set_desc(assettype: str, assetfqn: str, description: str, azuread_access_token: str):\n",
        "    guid = getguid(assettype,assetfqn,azuread_access_token)\n",
        "    #url = f\"https://{purviewname}.catalog.purview.azure.com/api/atlas/v2/entity/guid/{guid}?description={description}\"\n",
        "    url = f\"https://{purviewname}.catalog.purview.azure.com/api/atlas/v2/entity/guid/{guid}?name=description\"\n",
        "    print(url)\n",
        "    headers = {\n",
        "            'Authorization': f'Bearer {azuread_access_token}',\n",
        "            'Content-Type': 'application/json'\n",
        "            }\n",
        "    response = requests.request(\"PUT\", url, headers=headers, data= f'\"{description}\"')\n",
        "    li = json.loads(response.text)\n",
        "    return li\n",
        "\n",
        "typename = \"azure_synapse_serverless_sql_table\"\n",
        "assetfqn = \"mssql://<workspase>-ondemand.sql.azuresynapse.net/<schema>/dbo/<table>\"\n",
        "token = azuread_auth(tenantid,clientid,secret,\"https://purview.azure.net\")\n",
        "#result = set_desc(typename, assetfqn,\"channel description stuff\", token)\n",
        "#result\n",
        "\n",
        "\n"
      ]
    },
    {
      "cell_type": "code",
      "execution_count": 3,
      "metadata": {
        "jupyter": {
          "outputs_hidden": false,
          "source_hidden": false
        },
        "nteract": {
          "transient": {
            "deleting": false
          }
        }
      },
      "outputs": [],
      "source": [
        "def getcolumns(typeName: str, assetfqn: str, azuread_access_token: str):\n",
        "    prefix = f\"https://{purviewname}.catalog.purview.azure.com/api/atlas/v2/entity/uniqueAttribute/type\"\n",
        "    url = f\"{prefix}/{typeName}?attr:qualifiedName={assetfqn}\"\n",
        "    headers = {\n",
        "            'Authorization': f'Bearer {azuread_access_token}',\n",
        "            'Content-Type': 'application/json'\n",
        "            }\n",
        "    response = requests.request(\"GET\", url, headers=headers)\n",
        "    result = json.loads(response.text)['referredEntities'].values()\n",
        "    mycolumns = []\n",
        "    for column in result:\n",
        "        item = {}\n",
        "        item['typename'] = column['typeName']\n",
        "        item['name'] = column['attributes']['name']\n",
        "        item['guid'] = column['guid']\n",
        "        mycolumns.append(item)\n",
        "    mycolumns = pd.DataFrame.from_dict(mycolumns)\n",
        "    return mycolumns\n",
        "def getcolguid(myname,columns):\n",
        "    guid = columns[columns['name']==myname]['guid'].tolist()\n",
        "    return guid[0]\n",
        "def col_desc(columns, name: str, description: str, azuread_access_token: str):\n",
        "    guid = getcolguid(name,columns)\n",
        "    url = f\"https://{purviewname}.catalog.purview.azure.com/api/atlas/v2/entity/guid/{guid}?name=description\"\n",
        "    headers = {\n",
        "            'Authorization': f'Bearer {azuread_access_token}',\n",
        "            'Content-Type': 'application/json'\n",
        "            }\n",
        "    response = requests.request(\"PUT\", url, headers=headers, data= f'\"{description}\"')\n",
        "    li = json.loads(response.text)\n",
        "    return li\n",
        "typename = \"azure_synapse_serverless_sql_table\"\n",
        "assetfqn = \"mssql://<workspase>-ondemand.sql.azuresynapse.net/<schema>/dbo/<table>\"\n",
        "token = azuread_auth(tenantid,clientid,secret,\"https://purview.azure.net\")\n",
        "columns = getcolumns(typename,assetfqn,token)\n",
        "print(columns)\n",
        "#·guid = getcolguid('CommunicationId',columns)\n",
        "#guid"
      ]
    },
    {
      "cell_type": "code",
      "execution_count": 4,
      "metadata": {
        "jupyter": {
          "outputs_hidden": false,
          "source_hidden": false
        },
        "nteract": {
          "transient": {
            "deleting": false
          }
        }
      },
      "outputs": [],
      "source": [
        "syn_workspace = mssparkutils.env.getWorkspaceName()\n",
        "baseurl=\"https://\"+syn_workspace+\".dev.azuresynapse.net\"\n",
        "headers = {\"Authorization\": \"Bearer \"+mssparkutils.credentials.getToken(\"Synapse\")}\n",
        "constructed_url = baseurl + \"/databases/\"+lakedatabase+\"/tables?api-version=2021-04-01\"\n",
        "response = requests.get(constructed_url, headers=headers)\n",
        "response = json.loads(response.text)\n",
        "#print(response)\n",
        "for item in response['items']:\n",
        "    tablename=item['name']\n",
        "    description=item['properties']['Properties']['Description']\n",
        "    description = description.replace(\"\\n\",\"\\\\n\")\n",
        "    typename = \"azure_synapse_serverless_sql_table\"\n",
        "    assetfqn = f\"mssql://{syn_workspace}-ondemand.sql.azuresynapse.net/{lakedatabase}/dbo/{tablename}\"\n",
        "    token = azuread_auth(tenantid,clientid,secret,\"https://purview.azure.net\")\n",
        "    result = set_desc(typename, assetfqn,description,token)\n",
        "    dfcolumns = getcolumns(typename, assetfqn,token)\n",
        "    if dfcolumns.shape[0] > 0:\n",
        "        for column in item['properties']['StorageDescriptor']['Columns']:\n",
        "            columname = column[\"Name\"]\n",
        "            description = column[\"Description\"]\n",
        "            description = description.replace(\"\\n\",\"\\\\n\")\n",
        "            typename = \"azure_synapse_serverless_sql_column\"\n",
        "            result = col_desc(dfcolumns, columname, description, token)\n",
        "        print(tablename)\n",
        "    else:\n",
        "        print(f\"No columns/schema found in purview for table {tablename}\")\n",
        "    #print(result)\n"
      ]
    },
    {
      "cell_type": "code",
      "execution_count": 40,
      "metadata": {
        "jupyter": {
          "outputs_hidden": false,
          "source_hidden": false
        },
        "nteract": {
          "transient": {
            "deleting": false
          }
        }
      },
      "outputs": [],
      "source": [
        "def get_entity(typeName: str, assetfqn: str, azuread_access_token: str):\n",
        "    prefix = f\"https://{purviewname}.catalog.purview.azure.com/api/atlas/v2/entity/uniqueAttribute/type\"\n",
        "    url = f\"{prefix}/{typeName}?attr:qualifiedName={assetfqn}&ignoreRelationships=True\"\n",
        "    headers = {\n",
        "            'Authorization': f'Bearer {azuread_access_token}',\n",
        "            'Content-Type': 'application/json'\n",
        "            }\n",
        "    response = requests.request(\"GET\", url, headers=headers)\n",
        "    guid = json.loads(response.text)['entity']\n",
        "    return guid\n",
        "typename = \"azure_synapse_serverless_sql_table\"\n",
        "assetfqn = \"mssql://datamasked-ondemand.sql.azuresynapse.net/Siniestros_MPF/dbo/Channel\"\n",
        "token = azuread_auth(tenantid,clientid,secret,\"https://purview.azure.net\")\n",
        "result = get_entity(typename, assetfqn, token)\n",
        "result"
      ]
    },
    {
      "cell_type": "code",
      "execution_count": 2,
      "metadata": {
        "jupyter": {
          "outputs_hidden": false,
          "source_hidden": false
        },
        "nteract": {
          "transient": {
            "deleting": false
          }
        }
      },
      "outputs": [],
      "source": [
        "def get_all_assets(path: str, data_catalog_name: str, azuread_access_token: str, max_depth=1):\n",
        "    \"\"\"\n",
        "    Retrieves all scanned assets for the specified ADLS Storage Account Container.\n",
        "    Note: this function intentionally recursively traverses until only assets remain (i.e. no folders are returned, only files).\n",
        "    \"\"\"\n",
        "    # List all files in path \n",
        "    # The API chooses between type and path, being prioritized on the fitsr \n",
        "    url = f\"https://{data_catalog_name}.catalog.purview.azure.com/api/browse?api-version=2021-05-01-preview\"\n",
        "    headers = {\n",
        "            'Authorization': f'Bearer {azuread_access_token}',\n",
        "            'Content-Type': 'application/json'\n",
        "            }\n",
        "    payload=\"\"\"{\"limit\": 100,\n",
        "                \"offset\": null,\n",
        "                \"path\": \"%s\"\n",
        "                }\"\"\" % (path)\n",
        "    response = requests.request(\"POST\", url, headers=headers, data=payload)\n",
        "    li = json.loads(response.text)\n",
        "    #print(li)\n",
        "    # Return all files\n",
        "    for x in jmespath.search(\"value\", li):\n",
        "        if jmespath.search(\"isLeaf\", x):\n",
        "            yield x\n",
        "    # If the max_depth has not been reached, start\n",
        "    # listing files and folders in subdirectories\n",
        "    if max_depth > 1:\n",
        "        for x in jmespath.search(\"value\", li):\n",
        "            if jmespath.search(\"isLeaf\", x):\n",
        "                continue\n",
        "            for y in get_all_assets(jmespath.search(\"path\", x), data_catalog_name, azuread_access_token, max_depth - 1):\n",
        "                yield y\n",
        "    # If max_depth has been reached,\n",
        "    # return the folders\n",
        "    else:\n",
        "        for x in jmespath.search(\"value\", li):\n",
        "            if jmespath.search(\"!isLeaf\", x):\n",
        "                yield x\n",
        "\n",
        "#top_path = f\"/azure_storage_account#{storage_account}.core.windows.net/azure_datalake_gen2_service#{storage_account}.dfs.core.windows.net/azure_datalake_gen2_filesystem#{container}\"\n",
        "#root = 'abfss://%s@%s.dfs.core.windows.net/' % (container, storage_account)\n",
        "# For lake databases: azure_synapse_serverless_sql_column"
      ]
    },
    {
      "cell_type": "code",
      "execution_count": 3,
      "metadata": {
        "jupyter": {
          "outputs_hidden": false,
          "source_hidden": false
        },
        "nteract": {
          "transient": {
            "deleting": false
          }
        }
      },
      "outputs": [],
      "source": [
        "def get_all_type_assets(type: str, data_catalog_name: str, azuread_access_token: str, max_depth=1):\n",
        "    \"\"\"\n",
        "    Retrieves all scanned assets for the specified ADLS Storage Account Container.\n",
        "    Note: this function intentionally recursively traverses until only assets remain (i.e. no folders are returned, only files).\n",
        "    \"\"\"\n",
        "    # List all files in path \n",
        "    # The API chooses between type and path, being prioritized on the fitsr \n",
        "    url = f\"https://{data_catalog_name}.catalog.purview.azure.com/api/browse?api-version=2021-05-01-preview\"\n",
        "    headers = {\n",
        "            'Authorization': f'Bearer {azuread_access_token}',\n",
        "            'Content-Type': 'application/json'\n",
        "            }\n",
        "    payload=\"\"\"{\"entityType\": \"%s\",\n",
        "                \"limit\": 100,\n",
        "                \"offset\": null\n",
        "                }\"\"\" % (type)\n",
        "    response = requests.request(\"POST\", url, headers=headers, data=payload)\n",
        "    li = json.loads(response.text)\n",
        "    print(li)\n",
        "    # Return all files\n",
        "    for x in jmespath.search(\"value\", li):\n",
        "        if jmespath.search(\"isLeaf\", x):\n",
        "            yield x\n",
        "    # If the max_depth has not been reached, start\n",
        "    # listing files and folders in subdirectories\n",
        "    if max_depth > 1:\n",
        "        for x in jmespath.search(\"value\", li):\n",
        "            if jmespath.search(\"isLeaf\", x):\n",
        "                continue\n",
        "            for y in get_all_type_assets(jmespath.search(\"path\", x), data_catalog_name, azuread_access_token, max_depth - 1):\n",
        "                yield y\n",
        "    # If max_depth has been reached,\n",
        "    # return the folders\n",
        "    else:\n",
        "        for x in jmespath.search(\"value\", li):\n",
        "            if jmespath.search(\"!isLeaf\", x):\n",
        "                yield x\n",
        "token = azuread_auth(tenantid,clientid,secret,\"https://purview.azure.net\")\n",
        "items2=get_all_type_assets(\"azure_sql_column\", purviewname,token,max_depth=1)\n",
        "mydict2 = []\n",
        "for item in items2:\n",
        "    mydict2.append(item)\n",
        "tables=spark.createDataFrame(mydict2)\n",
        "display(tables)"
      ]
    },
    {
      "cell_type": "code",
      "execution_count": null,
      "metadata": {
        "collapsed": false,
        "jupyter": {
          "outputs_hidden": false,
          "source_hidden": false
        },
        "nteract": {
          "transient": {
            "deleting": false
          }
        }
      },
      "outputs": [],
      "source": [
        "token = azuread_auth(tenantid,clientid,secret,\"https://purview.azure.net\")\n",
        "items3=get_all_assets(\"https://sa4purview.dfs.core.windows.net/datalake/serverless/tpcdsext.customer_address_{N}.parquet#__tabular_schema//ca_address_id\", purviewname,token,max_depth=6)\n",
        "mydict3 = []\n",
        "for item in items3:\n",
        "    mydict3.append(item)\n",
        "tables=spark.createDataFrame(mydict3)\n",
        "display(tables)"
      ]
    },
    {
      "cell_type": "code",
      "execution_count": null,
      "metadata": {
        "collapsed": false,
        "jupyter": {
          "outputs_hidden": false,
          "source_hidden": false
        },
        "nteract": {
          "transient": {
            "deleting": false
          }
        }
      },
      "outputs": [],
      "source": [
        "# This function returns number of columsn in purview\n",
        "def get_schema(guid):\n",
        "    url = f\"https://{purviewname}.purview.azure.com/catalog/api/atlas/v2/entity/guid/\"+guid\n",
        "    headers = {\n",
        "        'Authorization': f'Bearer {token}',\n",
        "        'Content-Type': 'application/json'\n",
        "        }      \n",
        "    response = requests.request(\"GET\", url, headers=headers).json()\n",
        "    #print(response)\n",
        "    return len(response[\"referredEntities\"])\n",
        "\n",
        "# Now lets create a table with the table name and columns and then one with empty columns\n",
        "column_nb = []    \n",
        "for table in tables.select('name','id').collect():\n",
        "    column_nb.append({\"name\":table.name,\"columns\":get_schema(table.id)})\n",
        "columndf = spark.createDataFrame(column_nb)\n",
        "emptytables = columndf.where(col('columns')==0).join(tables,on='name')\n",
        "display(emptytables)"
      ]
    },
    {
      "cell_type": "code",
      "execution_count": null,
      "metadata": {
        "jupyter": {
          "outputs_hidden": false,
          "source_hidden": false
        },
        "nteract": {
          "transient": {
            "deleting": false
          }
        }
      },
      "outputs": [],
      "source": [
        "for asset in result2.collect():\n",
        "    if asset['entityType']=='azure_datalake_gen2_path' and asset['name'].endswith('.csv') :\n",
        "        items3=get_all_assets(asset['path']+'#__tabular_schema', purviewname,token,max_depth=6)\n",
        "        for item3 in items3:\n",
        "            print(item3)"
      ]
    },
    {
      "cell_type": "code",
      "execution_count": null,
      "metadata": {
        "jupyter": {
          "outputs_hidden": false,
          "source_hidden": false
        },
        "nteract": {
          "transient": {
            "deleting": false
          }
        }
      },
      "outputs": [],
      "source": [
        "token = azuread_auth(tenantid,clientid,secret,\"https://purview.azure.net\")\n",
        "def get_schema(guid,token):\n",
        "    url = f\"https://{purviewname}.purview.azure.com/catalog/api/atlas/v2/entity/guid/\"+guid\n",
        "    headers = {\n",
        "        'Authorization': f'Bearer {token}',\n",
        "        'Content-Type': 'application/json'\n",
        "        }      \n",
        "    response = requests.request(\"GET\", url, headers=headers).json()\n",
        "    #print(response)\n",
        "    return response[\"entity\"]['relationshipAttributes']['tabular_schema']\n",
        "    #['relationshipGuid']\n",
        "def get_guid(guid,token):\n",
        "    url = f\"https://{purviewname}.purview.azure.com/catalog/api/atlas/v2/entity/guid/\"+guid\n",
        "    headers = {\n",
        "        'Authorization': f'Bearer {token}',\n",
        "        'Content-Type': 'application/json'\n",
        "        }      \n",
        "    response = requests.request(\"GET\", url, headers=headers).json()\n",
        "    return response[\"entity\"]\n",
        "myschema=get_schema('6e9ac7fd-aabf-474d-b5ae-97554faa3db4',token)\n",
        "print(myschema)\n",
        "mytab=get_guid(myschema['guid'],token)\n",
        "print(mytab)\n"
      ]
    }
  ],
  "metadata": {
    "description": null,
    "kernelspec": {
      "display_name": "Synapse PySpark",
      "name": "synapse_pyspark"
    },
    "language_info": {
      "name": "python"
    },
    "save_output": false,
    "synapse_widget": {
      "state": {},
      "version": "0.1"
    }
  },
  "nbformat": 4,
  "nbformat_minor": 2
}
